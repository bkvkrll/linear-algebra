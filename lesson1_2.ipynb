{
  "nbformat": 4,
  "nbformat_minor": 0,
  "metadata": {
    "colab": {
      "name": "lesson1_2.ipynb",
      "provenance": [],
      "collapsed_sections": [],
      "authorship_tag": "ABX9TyN43EQDsbWaQzUdAFUozeiU",
      "include_colab_link": true
    },
    "kernelspec": {
      "name": "python3",
      "display_name": "Python 3"
    },
    "language_info": {
      "name": "python"
    }
  },
  "cells": [
    {
      "cell_type": "markdown",
      "metadata": {
        "id": "view-in-github",
        "colab_type": "text"
      },
      "source": [
        "<a href=\"https://colab.research.google.com/github/bkvkrll/linear-algebra/blob/main/lesson1_2.ipynb\" target=\"_parent\"><img src=\"https://colab.research.google.com/assets/colab-badge.svg\" alt=\"Open In Colab\"/></a>"
      ]
    },
    {
      "cell_type": "markdown",
      "metadata": {
        "id": "hB3mUPPOBSWQ"
      },
      "source": [
        "Практическое задание"
      ]
    },
    {
      "cell_type": "markdown",
      "metadata": {
        "id": "AHsYAzSYBYfN"
      },
      "source": [
        "__1.__ Исследовать на линейную зависимость:\n",
        "\n",
        "$$f_{1}(x)=e^{x}, f_{2}(x)=1, f_{3}(x)=x+1, f_{4}(x)=x-e^{x}.$$"
      ]
    },
    {
      "cell_type": "markdown",
      "metadata": {
        "id": "GDN-IgzFBZm8"
      },
      "source": [
        "$f_{4}(x)=f_{3}(x)-f_{2}(x)-f_{1}(x)$ -  функции линейно зависимы"
      ]
    },
    {
      "cell_type": "markdown",
      "metadata": {
        "id": "-1Kkh3RdBfv9"
      },
      "source": [
        "__2.__ Исследовать на линейную зависимость:\n",
        "$$f_{1}(x)=2, f_{2}(x)=x, f_{3}(x)=x^{2}, f_{4}(x)=(x+1)^{2}$$"
      ]
    },
    {
      "cell_type": "markdown",
      "metadata": {
        "id": "HVTrQ5c8CwuB"
      },
      "source": [
        "$f_{4}(x)=x^2 + 2x + 1 = f_{3}(x) + 2f_{2}(x) + 0.5f_{1}(x)$ -  функции линейно зависимы"
      ]
    },
    {
      "cell_type": "markdown",
      "metadata": {
        "id": "9U7yDFmGC3Ph"
      },
      "source": [
        "__3.__ Найти координаты вектора $x = (2, 3, 5)\\in \\mathbb{R}^{3}$ в базисе $b_{1}=(0, 0, 10)$, $b_{2}=(2, 0, 0)$, $b_{3}=(0, 1, 0)$."
      ]
    },
    {
      "cell_type": "markdown",
      "metadata": {
        "id": "c9AeXdVHC8-5"
      },
      "source": [
        "$x = 1 \\cdot b_{2} + 3 \\cdot b_{3} + 0.5 \\cdot b_{1} $, т.е. $x = (0.5, 1, 3)$"
      ]
    },
    {
      "cell_type": "markdown",
      "metadata": {
        "id": "Hjw4OOPKDAYJ"
      },
      "source": [
        "##__4.__ Найти координаты вектора $3x^{2}-2x+2\\in\\mathbb{R}^{3}[x]$:\n",
        "\n",
        "а) в базисе $1$, $x$, $x^{2}$;\n",
        "\n",
        "б) в базисе $x^{2}$, $x-1$, $1$."
      ]
    },
    {
      "cell_type": "markdown",
      "metadata": {
        "id": "fB4qwqRkDIFp"
      },
      "source": [
        "a) Вектор $a_{4} = (3, -2, 2)$\n",
        "\n",
        "Базис:\n",
        "\n",
        "$a_{1} = (0, 0, 1)$\n",
        "\n",
        "$a_{2} = (0, 1, 0)$\n",
        "\n",
        "$a_{4} = (1, 0, 0)$\n",
        "\n",
        "$a_{4} = xa_{1} + ya_{2}+ za_{3}$\n",
        "\n",
        "$a_{4} = 3i - 2j + 2k$\n",
        "\n",
        "$a_{1} = k$\n",
        "\n",
        "$a_{2} = j$\n",
        "\n",
        "$a_{3} = i$\n",
        "\n",
        "3i - 2j + 2k = xk +yj +zi\n",
        "\n",
        "x = 2, y = -2, z = 3\n",
        "\n",
        "b) Вектор $a_{4} = (3, -2, 2)$\n",
        "\n",
        "Базис:\n",
        "\n",
        "$a_{1} = (1, 0, 0)$\n",
        "\n",
        "$a_{2} = (0, 1, -1)$\n",
        "\n",
        "$a_{3} = (0, 0, 1)$\n",
        "\n",
        "$a_{4} = xa_{1} + ya_{2}+ za_{3} $\n",
        "\n",
        "3i - 2j + 2k = ix +jy - ky +kz\n",
        "\n",
        "$a_{1} = i$\n",
        "\n",
        "$a_{2} = j-k$\n",
        "\n",
        "$a_{3} = k$\n",
        "\n",
        "3i = ix <=> x = 3\n",
        "\n",
        "-2j = jy <=> y = -2\n",
        "\n",
        "2k = kz-ky <=> 2 = z + 2\n",
        "\n",
        "x = 3, y = -2, z = 0"
      ]
    },
    {
      "cell_type": "markdown",
      "metadata": {
        "id": "RHkUdj20FYLm"
      },
      "source": [
        "##__5.__ Установить, является ли линейным подпространством:\n",
        "\n",
        "а) совокупность всех векторов трехмерного пространства, у которых по крайней мере одна из первых двух координат равна нулю;\n",
        "    \n",
        "б) все векторы, являющиеся линейными комбинациями данных векторов $\\{u_{1}, u_{2}, \\ldots, u_{n}\\}$."
      ]
    },
    {
      "cell_type": "markdown",
      "metadata": {
        "id": "qaqRCXArFc3M"
      },
      "source": [
        "а) не является, потому что обе третьи координаты могут быть не равно 0\n",
        "\n",
        "б) является потому что любой вектор можно представить в виде $$\\sum_{i=1}^{k}\\lambda_{i}a_{i}=0.$$, соответственно и сумма таких вектором и произведение вектора на числу будут принадлежать множеству"
      ]
    },
    {
      "cell_type": "markdown",
      "metadata": {
        "id": "M6Tc7Xv-IDg7"
      },
      "source": [
        "__1.__ Найти скалярное произведение векторов $x, y \\in \\mathbb{R}$:<br>\n",
        "а) $x=(0,-3, 6),~y=(-4, 7, 9);$<br>\n",
        "б) $x=(7, -4, 0, 1),~y=(-3, 1, 11, 2).$"
      ]
    },
    {
      "cell_type": "code",
      "metadata": {
        "id": "IheqDfoXIkLy"
      },
      "source": [
        "import numpy as np\n",
        "from numpy.linalg import norm"
      ],
      "execution_count": 8,
      "outputs": []
    },
    {
      "cell_type": "code",
      "metadata": {
        "colab": {
          "base_uri": "https://localhost:8080/"
        },
        "id": "GdNDeruaHyf6",
        "outputId": "8b3a97dc-5406-4797-f0ab-80b37492d962"
      },
      "source": [
        "a = np.array([0, -3, 6])\n",
        "b = np.array([-4, 7, 9])\n",
        "print(np.dot(a, b))"
      ],
      "execution_count": 9,
      "outputs": [
        {
          "output_type": "stream",
          "name": "stdout",
          "text": [
            "33\n"
          ]
        }
      ]
    },
    {
      "cell_type": "code",
      "metadata": {
        "colab": {
          "base_uri": "https://localhost:8080/"
        },
        "id": "pO_8krb8I9FN",
        "outputId": "e12fc434-ca35-42aa-96ce-831dbbe19251"
      },
      "source": [
        "c = np.array([7, -4, 0, 1])\n",
        "d = np.array([-3, 1, 11, 2])\n",
        "print(np.dot(c, d))"
      ],
      "execution_count": 10,
      "outputs": [
        {
          "output_type": "stream",
          "name": "stdout",
          "text": [
            "-23\n"
          ]
        }
      ]
    },
    {
      "cell_type": "markdown",
      "metadata": {
        "id": "Lr6Z0htoJLuw"
      },
      "source": [
        "__2.__ Найти нормы векторов $(4, 2, 4)$ и $(12, 3, 4)$ и угол между ними."
      ]
    },
    {
      "cell_type": "code",
      "metadata": {
        "colab": {
          "base_uri": "https://localhost:8080/"
        },
        "id": "-dJzvXugseoQ",
        "outputId": "5fb3be93-c2ac-4351-c3a3-7d4637669569"
      },
      "source": [
        "a = np.array([4, 2, 4])\n",
        "b = np.array([12, 3, 4])\n",
        "\n",
        "print(norm(a))\n",
        "print(norm(b))\n",
        "\n",
        "cos_phi = np.dot(a, b) / norm(a) / norm(b)\n",
        "print(f'Угол {np.arccos(cos_phi):.2f}')"
      ],
      "execution_count": 11,
      "outputs": [
        {
          "output_type": "stream",
          "name": "stdout",
          "text": [
            "6.0\n",
            "13.0\n",
            "Угол 0.46\n"
          ]
        }
      ]
    },
    {
      "cell_type": "markdown",
      "metadata": {
        "id": "XwHk5V9CukfO"
      },
      "source": [
        "__3.__ Будет ли линейное пространство евклидовым, если за скалярное произведение принять:<br>\n",
        "а) произведение длин векторов;<br>\n",
        "б) утроенное обычное скалярное произведение векторов?<br>"
      ]
    },
    {
      "cell_type": "markdown",
      "metadata": {
        "id": "ehMD9eUru9mc"
      },
      "source": [
        "__4.__ Какие из нижеперечисленных векторов образуют ортонормированный базис в линейном пространстве $\\mathbb{R}^{3}$:<br>\n",
        "а) $(1,0,0),(0,0,1);$ <br>\n",
        "б) $(1/\\sqrt{2},-1/\\sqrt{2},0),(1/\\sqrt{2},1/\\sqrt{2},0), (0,0,1);$<br>\n",
        "в) $(1/2, -1/2, 0), (0, 1/2, 1/2), (0,0,1);$<br>\n",
        "г) $(1,0,0),(0,1,0),(0,0,1)?$ "
      ]
    },
    {
      "cell_type": "code",
      "metadata": {
        "colab": {
          "base_uri": "https://localhost:8080/"
        },
        "id": "ixbZ6itnvBJE",
        "outputId": "170b38e6-b296-4cdd-dff1-a79687aa63a7"
      },
      "source": [
        "# а)  \n",
        "a = np.array([1, 0, 0])\n",
        "b = np.array([0, 0, 1])\n",
        "print(np.dot(a, b))\n",
        "print(norm(a), norm(b))"
      ],
      "execution_count": 18,
      "outputs": [
        {
          "output_type": "stream",
          "name": "stdout",
          "text": [
            "0\n",
            "1.0 1.0\n"
          ]
        }
      ]
    },
    {
      "cell_type": "code",
      "metadata": {
        "colab": {
          "base_uri": "https://localhost:8080/"
        },
        "id": "6lWHY5rFvO6z",
        "outputId": "92805973-ef00-40d9-b9ac-445abe76f62b"
      },
      "source": [
        "# б)  \n",
        "c = np.array([(1/(2**0.5)), (-1/(2**0.5)), 0])\n",
        "d = np.array([(1/(2**0.5)), (1/(2**0.5)), 0])\n",
        "b = np.array([0, 0, 1])\n",
        "print(np.dot(c, d))\n",
        "print(np.dot(c, b))\n",
        "print(np.dot(b, d))\n",
        "print(norm(c), norm(d), norm(b))"
      ],
      "execution_count": 19,
      "outputs": [
        {
          "output_type": "stream",
          "name": "stdout",
          "text": [
            "-2.2371143170757382e-17\n",
            "0.0\n",
            "0.0\n",
            "0.9999999999999999 0.9999999999999999 1.0\n"
          ]
        }
      ]
    },
    {
      "cell_type": "code",
      "metadata": {
        "colab": {
          "base_uri": "https://localhost:8080/"
        },
        "id": "UmuJ8wdXwOvp",
        "outputId": "6176afd6-a256-4d03-9e57-8d671547f15a"
      },
      "source": [
        "# в)  \n",
        "e = np.array([0.5, -0.5, 0])\n",
        "f = np.array([0, 0.5, 0.5])\n",
        "b = np.array([0, 0, 1])\n",
        "print(np.dot(e, f))\n",
        "print(np.dot(e, b))\n",
        "print(np.dot(b, f))\n",
        "print(norm(e), norm(f), norm(b))"
      ],
      "execution_count": 20,
      "outputs": [
        {
          "output_type": "stream",
          "name": "stdout",
          "text": [
            "-0.25\n",
            "0.0\n",
            "0.5\n",
            "0.7071067811865476 0.7071067811865476 1.0\n"
          ]
        }
      ]
    },
    {
      "cell_type": "code",
      "metadata": {
        "colab": {
          "base_uri": "https://localhost:8080/"
        },
        "id": "rjfKUO8qulZN",
        "outputId": "a326cfb4-90fc-4e81-867f-c3e23e407c7d"
      },
      "source": [
        "#г)  (1,0,0),(0,1,0),(0,0,1)\n",
        "a = np.array([1,0,0])\n",
        "j = np.array([0,1,0])\n",
        "b = np.array([0, 0, 1])\n",
        "print(np.dot(a,j))\n",
        "print(np.dot(b,j))\n",
        "print(np.dot(a,b))\n",
        "print(norm(a), norm(j), norm(b))"
      ],
      "execution_count": 21,
      "outputs": [
        {
          "output_type": "stream",
          "name": "stdout",
          "text": [
            "0\n",
            "0\n",
            "0\n",
            "1.0 1.0 1.0\n"
          ]
        }
      ]
    }
  ]
}