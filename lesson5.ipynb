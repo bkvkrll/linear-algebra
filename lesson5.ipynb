{
  "nbformat": 4,
  "nbformat_minor": 0,
  "metadata": {
    "colab": {
      "name": "lesson5.ipynb",
      "provenance": [],
      "collapsed_sections": [],
      "authorship_tag": "ABX9TyP3cXAcpGnBx4MulhmcRbyw",
      "include_colab_link": true
    },
    "kernelspec": {
      "name": "python3",
      "display_name": "Python 3"
    },
    "language_info": {
      "name": "python"
    }
  },
  "cells": [
    {
      "cell_type": "markdown",
      "metadata": {
        "id": "view-in-github",
        "colab_type": "text"
      },
      "source": [
        "<a href=\"https://colab.research.google.com/github/bkvkrll/linear-algebra/blob/main/lesson5.ipynb\" target=\"_parent\"><img src=\"https://colab.research.google.com/assets/colab-badge.svg\" alt=\"Open In Colab\"/></a>"
      ]
    },
    {
      "cell_type": "markdown",
      "metadata": {
        "id": "2oFbyFJYsJ2R"
      },
      "source": [
        "__1.__ Найти собственные векторы и собственные значения для линейного оператора, заданного матрицей\n",
        "\n",
        "$$A=\\begin{pmatrix}\n",
        "-1 & -6\\\\ \n",
        "2 & 6\n",
        "\\end{pmatrix}.$$"
      ]
    },
    {
      "cell_type": "code",
      "metadata": {
        "id": "CrdWWvGtsfnG"
      },
      "source": [
        "import numpy as np"
      ],
      "execution_count": 1,
      "outputs": []
    },
    {
      "cell_type": "code",
      "metadata": {
        "colab": {
          "base_uri": "https://localhost:8080/"
        },
        "id": "I0s7k2turXIr",
        "outputId": "572de0ac-93d2-40e4-a318-ffef801b5960"
      },
      "source": [
        "A = np.array([[-1, -6], [2, 6]])\n",
        "w, v = np.linalg.eig(A)\n",
        " \n",
        "print(f'Матрица A:\\n{A}')\n",
        "print(f'Собственные значения:\\n{w}')\n",
        "print(f'Собственные векторы:\\n{v}')\n"
      ],
      "execution_count": 2,
      "outputs": [
        {
          "output_type": "stream",
          "name": "stdout",
          "text": [
            "Матрица A:\n",
            "[[-1 -6]\n",
            " [ 2  6]]\n",
            "Собственные значения:\n",
            "[2. 3.]\n",
            "Собственные векторы:\n",
            "[[-0.89442719  0.83205029]\n",
            " [ 0.4472136  -0.5547002 ]]\n"
          ]
        }
      ]
    },
    {
      "cell_type": "markdown",
      "metadata": {
        "id": "oRXdruVRsyv8"
      },
      "source": [
        "__2.__ Дан оператор поворота на 180 градусов, задаваемый матрицей \n",
        "\n",
        "$$A=\\begin{pmatrix}\n",
        "-1 & 0\\\\ \n",
        "0 & -1\n",
        "\\end{pmatrix}.$$\n",
        "\n",
        "Показать, что __любой__ вектор является для него собственным."
      ]
    },
    {
      "cell_type": "markdown",
      "metadata": {
        "id": "ZbiCRks4tNq1"
      },
      "source": [
        "$$-1\\begin{pmatrix}\n",
        "1 & 0 \\\\ \n",
        "0 & 1 \\\\\n",
        "\\end{pmatrix}\n",
        "\\begin{pmatrix}\n",
        "x1\\\\\n",
        "x2\\\\\n",
        "\\end{pmatrix}=\n",
        "\\lambda\n",
        "\\begin{pmatrix}\n",
        "x1\\\\\n",
        "x2\\\\\n",
        "\\end{pmatrix}\n",
        "$$\n",
        "\n",
        "$$\n",
        "\\lambda=-1.$$"
      ]
    },
    {
      "cell_type": "markdown",
      "metadata": {
        "id": "eAsF-DXvvBpi"
      },
      "source": [
        "__3.__ Пусть линейный оператор задан матрицей\n",
        "\n",
        "$$A=\\begin{pmatrix}\n",
        "1 & 1\\\\ \n",
        "-1 & 3\n",
        "\\end{pmatrix}.$$\n",
        "\n",
        "Установить, является ли вектор $x=(1,1)$ собственным вектором этого линейного оператора."
      ]
    },
    {
      "cell_type": "markdown",
      "metadata": {
        "id": "q2mZafyEvIpv"
      },
      "source": [
        "$$\\begin{cases}\n",
        "1+1=1\\cdot\\lambda \\\\ \n",
        "-1+3 = -2\\cdot \\lambda\n",
        "\\end{cases}\n",
        "\\Rightarrow\n",
        "\\begin{cases}\n",
        "\\lambda=2\\\\ \n",
        "\\lambda=2\n",
        "\\end{cases}.$$"
      ]
    },
    {
      "cell_type": "code",
      "metadata": {
        "colab": {
          "base_uri": "https://localhost:8080/"
        },
        "id": "cPrkM_sEvqBY",
        "outputId": "d3c39d42-20b9-44c2-ad32-1d33a459605d"
      },
      "source": [
        "A = np.array([[1, 1], [-1, 3]])\n",
        "w, v = np.linalg.eig(A)\n",
        " \n",
        "print(f'Матрица A:\\n{A}')\n",
        "print(f'Собственные значения:\\n{w}')\n",
        "print(f'Собственные векторы:\\n{v}')"
      ],
      "execution_count": 3,
      "outputs": [
        {
          "output_type": "stream",
          "name": "stdout",
          "text": [
            "Матрица A:\n",
            "[[ 1  1]\n",
            " [-1  3]]\n",
            "Собственные значения:\n",
            "[2.00000002 1.99999998]\n",
            "Собственные векторы:\n",
            "[[ 0.70710677 -0.70710679]\n",
            " [ 0.70710679 -0.70710677]]\n"
          ]
        }
      ]
    },
    {
      "cell_type": "markdown",
      "metadata": {
        "id": "JcxWOqLOveSJ"
      },
      "source": [
        "**4.** Пусть линейный оператор задан матрицей\n",
        "\n",
        "$$A=\\begin{pmatrix} 0 & 3 & 0\\\\ 3 & 0 & 0\\\\ 0 & 0 & 3 \\end{pmatrix}.$$\n",
        "\n",
        "Установить, является ли вектор $x=(3, -3, -4)$ собственным вектором этого линейного оператора."
      ]
    },
    {
      "cell_type": "markdown",
      "metadata": {
        "id": "bbg0Sgj_v-M6"
      },
      "source": [
        "$$\\begin{pmatrix}\n",
        "0 & 3 & 0\\\\ \n",
        "3 & 0 & 0\\\\\n",
        "0 & 0 & 3\n",
        "\\end{pmatrix}\n",
        "\\begin{pmatrix}\n",
        "3\\\\\n",
        "-3\\\\\n",
        "-4\n",
        "\\end{pmatrix}=\n",
        "\\lambda\n",
        "\\begin{pmatrix}\n",
        "3\\\\\n",
        "-3\\\\\n",
        "-4\n",
        "\\end{pmatrix}\n",
        "$$\n",
        "\n",
        "$$\\Rightarrow\n",
        "\\begin{cases}\n",
        "-9 = 3\\cdot \\lambda\\\\ \n",
        "9 = -3\\cdot\\lambda\\\\\n",
        "-12 = -4\\cdot\\lambda\\\n",
        "\\end{cases}\n",
        "\\Rightarrow\n",
        "\\begin{cases}\n",
        "\\lambda=-3\\\\ \n",
        "\\lambda=-3\\\\\n",
        "\\lambda=3\\\\\n",
        "\\end{cases}$$"
      ]
    },
    {
      "cell_type": "code",
      "metadata": {
        "colab": {
          "base_uri": "https://localhost:8080/"
        },
        "id": "JciW10tWw0Zt",
        "outputId": "66a7173c-5f00-4c63-b843-242e54e99a41"
      },
      "source": [
        "A = np.array([[0, 3, 0], [3, 0, 0], [0, 0, 3]])\n",
        "w, v = np.linalg.eig(A)\n",
        " \n",
        "print(f'Матрица A:\\n{A}')\n",
        "print(f'Собственные значения:\\n{w}')\n",
        "print(f'Собственные векторы:\\n{v}')"
      ],
      "execution_count": 4,
      "outputs": [
        {
          "output_type": "stream",
          "name": "stdout",
          "text": [
            "Матрица A:\n",
            "[[0 3 0]\n",
            " [3 0 0]\n",
            " [0 0 3]]\n",
            "Собственные значения:\n",
            "[ 3. -3.  3.]\n",
            "Собственные векторы:\n",
            "[[ 0.70710678 -0.70710678  0.        ]\n",
            " [ 0.70710678  0.70710678  0.        ]\n",
            " [ 0.          0.          1.        ]]\n"
          ]
        }
      ]
    },
    {
      "cell_type": "code",
      "metadata": {
        "id": "d4tQY0D-vjcJ"
      },
      "source": [
        ""
      ],
      "execution_count": null,
      "outputs": []
    }
  ]
}