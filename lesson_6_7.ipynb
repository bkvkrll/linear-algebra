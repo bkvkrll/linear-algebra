{
  "nbformat": 4,
  "nbformat_minor": 0,
  "metadata": {
    "colab": {
      "name": "lesson 6-7.ipynb",
      "provenance": [],
      "collapsed_sections": [],
      "authorship_tag": "ABX9TyPCdEAI6ZKDGkV2iqyc5MCY",
      "include_colab_link": true
    },
    "kernelspec": {
      "name": "python3",
      "display_name": "Python 3"
    },
    "language_info": {
      "name": "python"
    }
  },
  "cells": [
    {
      "cell_type": "markdown",
      "metadata": {
        "id": "view-in-github",
        "colab_type": "text"
      },
      "source": [
        "<a href=\"https://colab.research.google.com/github/bkvkrll/linear-algebra/blob/main/lesson_6_7.ipynb\" target=\"_parent\"><img src=\"https://colab.research.google.com/assets/colab-badge.svg\" alt=\"Open In Colab\"/></a>"
      ]
    },
    {
      "cell_type": "markdown",
      "metadata": {
        "id": "a4TeuMVRTuK5"
      },
      "source": [
        "__1.__ Решить систему уравнений методом Гаусса:\n",
        "\n",
        "$$\\begin{cases}\n",
        "x_{1}+x_{2}-x_{3}-2x_{4}=0, \\\\\n",
        "2x_{1}+x_{2}-x_{3}+x_{4}=-2, \\\\\n",
        "x_{1}+x_{2}-3x_{3}+x_{4}=4.\n",
        "\\end{cases}$$"
      ]
    },
    {
      "cell_type": "code",
      "metadata": {
        "id": "p3QzYCSPTi13"
      },
      "source": [
        "import numpy as np"
      ],
      "execution_count": 1,
      "outputs": []
    },
    {
      "cell_type": "code",
      "metadata": {
        "id": "nDuIrc2dVgUX"
      },
      "source": [
        "def gauss(A, b, n):\n",
        "    rnk_A = np.linalg.matrix_rank(A)\n",
        "    rnk_Ab = np.linalg.matrix_rank(np.hstack((A, b)))\n",
        "    if  rnk_A == rnk_Ab == n:\n",
        "        return 'Cистема имеет единственное решение'\n",
        "    elif (rnk_A == rnk_Ab) and (rnk_A < n):\n",
        "        return 'Cистема имеет бесконечное количество решений'\n",
        "    elif rnk_A < rnk_Ab:\n",
        "        return 'Cистема несовместна'"
      ],
      "execution_count": 11,
      "outputs": []
    },
    {
      "cell_type": "code",
      "metadata": {
        "colab": {
          "base_uri": "https://localhost:8080/",
          "height": 35
        },
        "id": "-e2YyVQTT7Sb",
        "outputId": "fa19d357-11b9-480d-b169-15acbd8dc4a0"
      },
      "source": [
        "A = np.array([[1, 1, -1, -2], [2, 1, -1, 1], [1, 1, -3, 1]])\n",
        "b = np.array([0, -2, 4]).reshape(-1, 1)\n",
        "gauss(A, b, 4)"
      ],
      "execution_count": 13,
      "outputs": [
        {
          "output_type": "execute_result",
          "data": {
            "application/vnd.google.colaboratory.intrinsic+json": {
              "type": "string"
            },
            "text/plain": [
              "'Cистема имеет бесконечное количество решений'"
            ]
          },
          "metadata": {},
          "execution_count": 13
        }
      ]
    },
    {
      "cell_type": "markdown",
      "metadata": {
        "id": "vabUUw3FVD0a"
      },
      "source": [
        "__2.__ Проверить на совместность и выяснить, сколько решений будет иметь система линейных уравнений:\n",
        "\n",
        "   а) $\\begin{cases}\n",
        "3x_{1}-x_{2}+x_{3}=4, \\\\\n",
        "2x_{1}-5x_{2}-3x_{3}=-17, \\\\\n",
        "x_{1}+x_{2}-x_{3}=0;\n",
        "\\end{cases}$\n",
        "   б) $\\begin{cases}\n",
        "2x_{1}-4x_{2}+6x_{3}=1, \\\\\n",
        "x_{1}-2x_{2}+3x_{3}=-2, \\\\\n",
        "3x_{1}-6x_{2}+9x_{3}=5;\n",
        "\\end{cases}$\n",
        "    \n",
        "   в) $\\begin{cases}\n",
        "x_{1}+2x_{2}+5x_{3}=4, \\\\\n",
        "3x_{1}+x_{2}-8x_{3}=-2. \n",
        "\\end{cases}$"
      ]
    },
    {
      "cell_type": "code",
      "metadata": {
        "colab": {
          "base_uri": "https://localhost:8080/",
          "height": 35
        },
        "id": "oSolM6ADVGUg",
        "outputId": "b25f1843-d06f-4c5e-f05e-4140546562ae"
      },
      "source": [
        "# а)\n",
        "A = np.array([[3, -1, 1], [2, -5, -3], [1, 1, -1]])\n",
        "b = np.array([4, -17, 0]).reshape(-1, 1)\n",
        "gauss(A, b, 3)"
      ],
      "execution_count": 14,
      "outputs": [
        {
          "output_type": "execute_result",
          "data": {
            "application/vnd.google.colaboratory.intrinsic+json": {
              "type": "string"
            },
            "text/plain": [
              "'Cистема имеет единственное решение'"
            ]
          },
          "metadata": {},
          "execution_count": 14
        }
      ]
    },
    {
      "cell_type": "code",
      "metadata": {
        "colab": {
          "base_uri": "https://localhost:8080/",
          "height": 35
        },
        "id": "a8itgoAjW7AF",
        "outputId": "88d78046-3d4e-4f7c-effd-35396af9e01d"
      },
      "source": [
        "# б)\n",
        "A = np.array([[2, -4, 6], [1, -2, 3], [3, -6, 9]])\n",
        "b = np.array([1, -2, 5]).reshape(-1, 1)\n",
        "gauss(A, b, 3)"
      ],
      "execution_count": 15,
      "outputs": [
        {
          "output_type": "execute_result",
          "data": {
            "application/vnd.google.colaboratory.intrinsic+json": {
              "type": "string"
            },
            "text/plain": [
              "'Cистема несовместна'"
            ]
          },
          "metadata": {},
          "execution_count": 15
        }
      ]
    },
    {
      "cell_type": "code",
      "metadata": {
        "colab": {
          "base_uri": "https://localhost:8080/",
          "height": 35
        },
        "id": "8ouFll-HXIis",
        "outputId": "f185e689-c55f-426e-83b4-e0a276e9b3b5"
      },
      "source": [
        "# в)\n",
        "A = np.array([[1, 2, 5], [3, 1, -8]])\n",
        "b = np.array([4, -2]).reshape(-1, 1)\n",
        "gauss(A, b, 3)"
      ],
      "execution_count": 16,
      "outputs": [
        {
          "output_type": "execute_result",
          "data": {
            "application/vnd.google.colaboratory.intrinsic+json": {
              "type": "string"
            },
            "text/plain": [
              "'Cистема имеет бесконечное количество решений'"
            ]
          },
          "metadata": {},
          "execution_count": 16
        }
      ]
    },
    {
      "cell_type": "markdown",
      "metadata": {
        "id": "B04qtSyiXWWY"
      },
      "source": [
        "__3.__ Проверить на совместность и выяснить, сколько решений будет иметь система линейных уравнений, заданная расширенной матрицей\n",
        "\n",
        "$$\\tilde{A}=\\begin{pmatrix}\n",
        "\\left.\\begin{matrix}\n",
        "1 & 3 & -2 & 4\\\\ \n",
        "0 & 5 & 0 & 1\\\\ \n",
        "0 & 0 & 3 & 0\\\\ \n",
        "0 & 0 & 0 & 2\n",
        "\\end{matrix}\\right|\n",
        "\\begin{matrix}\n",
        "3\\\\ \n",
        "2\\\\\n",
        "4\\\\\n",
        "1\n",
        "\\end{matrix}\n",
        "\\end{pmatrix}.$$"
      ]
    },
    {
      "cell_type": "code",
      "metadata": {
        "colab": {
          "base_uri": "https://localhost:8080/",
          "height": 35
        },
        "id": "LoXgGTWIXXAz",
        "outputId": "572fe796-0cc3-44a7-dd3d-cae11b73f06b"
      },
      "source": [
        "A = np.array([[1, 3, -2, 4], [0, 5, 0, 1], [0, 0, 3, 0], [0, 0, 0, 2]])\n",
        "b = np.array([3, 2, 4, 1]).reshape(-1, 1)\n",
        "gauss(A, b, 4)"
      ],
      "execution_count": 19,
      "outputs": [
        {
          "output_type": "execute_result",
          "data": {
            "application/vnd.google.colaboratory.intrinsic+json": {
              "type": "string"
            },
            "text/plain": [
              "'Cистема имеет единственное решение'"
            ]
          },
          "metadata": {},
          "execution_count": 19
        }
      ]
    },
    {
      "cell_type": "markdown",
      "metadata": {
        "id": "F2kdvYz0YKfK"
      },
      "source": [
        "__1.__ Решить систему уравнений методом Крамера:\n",
        "\n",
        "   а) $\\begin{cases}\n",
        "x_{1}-2x_{2}=1 \\\\\n",
        "3x_{1}-4x_{2}=7\n",
        "\\end{cases}$\n",
        "    \n",
        "   б) $\\begin{cases}\n",
        "2x_{1}-x_{2}+5x_{3}=10 \\\\\n",
        "x_{1}+x_{2}-3x_{3}=-2 \\\\\n",
        "2x_{1}+4x_{2}+x_{3}=1\n",
        "\\end{cases}$"
      ]
    },
    {
      "cell_type": "code",
      "metadata": {
        "id": "gnz9_RblYLDW"
      },
      "source": [
        "# а)\n",
        "A = np.array([[1, -2], [3, -4]])\n",
        "b = np.array([1, 7]).reshape(-1, 1)\n",
        "\n",
        "x1 = np.linalg.det(np.hstack((b, A[:,1].reshape(-1, 1)))) /  np.linalg.det(A)\n",
        "x2 = np.linalg.det(np.hstack((A[:,0].reshape(-1, 1), b))) /  np.linalg.det(A)"
      ],
      "execution_count": 20,
      "outputs": []
    },
    {
      "cell_type": "code",
      "metadata": {
        "colab": {
          "base_uri": "https://localhost:8080/"
        },
        "id": "bS733eafaLMA",
        "outputId": "2a6c33b5-cc8d-4ed1-adcc-21299d42ebaf"
      },
      "source": [
        "np.linalg.solve(A, b)"
      ],
      "execution_count": 21,
      "outputs": [
        {
          "output_type": "execute_result",
          "data": {
            "text/plain": [
              "array([[5.],\n",
              "       [2.]])"
            ]
          },
          "metadata": {},
          "execution_count": 21
        }
      ]
    },
    {
      "cell_type": "code",
      "metadata": {
        "id": "_fxWsjWsaw6a"
      },
      "source": [
        "# б)\n",
        "A = np.array([[2, -1, 5], [1, 2, -3], [2, 4, 1]])\n",
        "b = np.array([10, -2, 1]).reshape(-1, 1)\n",
        "x1 = np.linalg.det(np.hstack((b, A[:,1:]))) /  np.linalg.det(A)\n",
        "x2 = np.linalg.det(np.hstack((A[:,:1], b, A[:,-1:]))) /  np.linalg.det(A)\n",
        "x3 = np.linalg.det(np.hstack((A[:,:2], b))) /  np.linalg.det(A)"
      ],
      "execution_count": 22,
      "outputs": []
    },
    {
      "cell_type": "code",
      "metadata": {
        "colab": {
          "base_uri": "https://localhost:8080/"
        },
        "id": "9zLjf9VVbRJV",
        "outputId": "746da9c3-9fb5-4668-f945-a12f4f7aa709"
      },
      "source": [
        "np.linalg.solve(A, b)"
      ],
      "execution_count": 23,
      "outputs": [
        {
          "output_type": "execute_result",
          "data": {
            "text/plain": [
              "array([[ 2.6       ],\n",
              "       [-1.22857143],\n",
              "       [ 0.71428571]])"
            ]
          },
          "metadata": {},
          "execution_count": 23
        }
      ]
    },
    {
      "cell_type": "markdown",
      "metadata": {
        "id": "OJiQPcZPbWH1"
      },
      "source": [
        "__2*.__ Найти $L$-матрицу $LU$-разложения для матрицы коэффициентов:\n",
        "\n",
        "   а)$$\\begin{pmatrix}\n",
        "1 & 2 & 4 \\\\ \n",
        "2 & 9 & 12 \\\\ \n",
        "3 & 26 & 30\n",
        "\\end{pmatrix}$$\n",
        "    \n",
        "   б)$$\\begin{pmatrix}\n",
        "1 & 1 & 2 & 4\\\\ \n",
        "2 & 5 & 8 & 9\\\\ \n",
        "3 & 18 & 29 & 18\\\\\n",
        "4 & 22 & 53 & 33\n",
        "\\end{pmatrix}$$"
      ]
    },
    {
      "cell_type": "code",
      "metadata": {
        "colab": {
          "base_uri": "https://localhost:8080/"
        },
        "id": "QAyucf1tbWpu",
        "outputId": "0a28ce14-8ed1-4c52-d75f-de7474c2d2e7"
      },
      "source": [
        "import pprint\n",
        "import scipy\n",
        "import scipy.linalg\n",
        "\n",
        "A = scipy.array([[1, 2, 4], [2, 9, 12], [3, 26, 30]])\n",
        "P, L, U = scipy.linalg.lu(A)\n",
        "\n",
        "print(L)\n",
        "print(U)\n"
      ],
      "execution_count": 28,
      "outputs": [
        {
          "output_type": "stream",
          "name": "stdout",
          "text": [
            "[[1.         0.         0.        ]\n",
            " [0.66666667 1.         0.        ]\n",
            " [0.33333333 0.8        1.        ]]\n",
            "[[ 3.         26.         30.        ]\n",
            " [ 0.         -8.33333333 -8.        ]\n",
            " [ 0.          0.          0.4       ]]\n"
          ]
        },
        {
          "output_type": "stream",
          "name": "stderr",
          "text": [
            "/usr/local/lib/python3.7/dist-packages/ipykernel_launcher.py:5: DeprecationWarning: scipy.array is deprecated and will be removed in SciPy 2.0.0, use numpy.array instead\n",
            "  \"\"\"\n"
          ]
        }
      ]
    },
    {
      "cell_type": "code",
      "metadata": {
        "colab": {
          "base_uri": "https://localhost:8080/"
        },
        "id": "SSsOrGDEcKGU",
        "outputId": "61a3f01d-28e3-4dc4-ecd1-e291f593edea"
      },
      "source": [
        "A = scipy.array([[1, 1, 2, 4], [2, 5, 8, 9], [3, 18, 29, 18], [4, 22, 53, 33]])\n",
        "P, L, U = scipy.linalg.lu(A)\n",
        "\n",
        "print(L)\n",
        "print(U)"
      ],
      "execution_count": 31,
      "outputs": [
        {
          "output_type": "stream",
          "name": "stdout",
          "text": [
            "[[ 1.          0.          0.          0.        ]\n",
            " [ 0.5         1.          0.          0.        ]\n",
            " [ 0.75       -0.25        1.          0.        ]\n",
            " [ 0.25        0.75       -0.17073171  1.        ]]\n",
            "[[  4.          22.          53.          33.        ]\n",
            " [  0.          -6.         -18.5         -7.5       ]\n",
            " [  0.           0.         -15.375       -8.625     ]\n",
            " [  0.           0.           0.          -0.09756098]]\n"
          ]
        },
        {
          "output_type": "stream",
          "name": "stderr",
          "text": [
            "/usr/local/lib/python3.7/dist-packages/ipykernel_launcher.py:1: DeprecationWarning: scipy.array is deprecated and will be removed in SciPy 2.0.0, use numpy.array instead\n",
            "  \"\"\"Entry point for launching an IPython kernel.\n"
          ]
        }
      ]
    },
    {
      "cell_type": "markdown",
      "metadata": {
        "id": "x306f3K0cwgD"
      },
      "source": [
        "__3*.__ Решить систему линейных уравнений методом $LU$-разложения\n",
        "\n",
        "$$\\begin{cases}\n",
        "2x_{1}+x_{2}+3x_{3}=1 \\\\\n",
        "11x_{1}+7x_{2}+5x_{3}=-6 \\\\\n",
        "9x_{1}+8x_{2}+4x_{3}=-5\n",
        "\\end{cases}$$"
      ]
    },
    {
      "cell_type": "code",
      "metadata": {
        "colab": {
          "base_uri": "https://localhost:8080/"
        },
        "id": "DN2GmtPlcxBo",
        "outputId": "9babf3d6-a8ad-43be-a716-aa6353626637"
      },
      "source": [
        "A = scipy.array([[2, 1, 3], [11, 7, 5], [9, 8, 4]])\n",
        "P, L, U = scipy.linalg.lu(A)\n",
        "print(L)\n",
        "print(U)"
      ],
      "execution_count": 32,
      "outputs": [
        {
          "output_type": "stream",
          "name": "stdout",
          "text": [
            "[[ 1.          0.          0.        ]\n",
            " [ 0.81818182  1.          0.        ]\n",
            " [ 0.18181818 -0.12        1.        ]]\n",
            "[[11.          7.          5.        ]\n",
            " [ 0.          2.27272727 -0.09090909]\n",
            " [ 0.          0.          2.08      ]]\n"
          ]
        },
        {
          "output_type": "stream",
          "name": "stderr",
          "text": [
            "/usr/local/lib/python3.7/dist-packages/ipykernel_launcher.py:1: DeprecationWarning: scipy.array is deprecated and will be removed in SciPy 2.0.0, use numpy.array instead\n",
            "  \"\"\"Entry point for launching an IPython kernel.\n"
          ]
        }
      ]
    },
    {
      "cell_type": "code",
      "metadata": {
        "colab": {
          "base_uri": "https://localhost:8080/"
        },
        "id": "XJJg22Mmdj3v",
        "outputId": "23986952-7f8d-4659-972d-79bd78f448ea"
      },
      "source": [
        "y1 = 1\n",
        "y2 = -6 - 0.82\n",
        "y3 = -5 -0.18 +0.12*y2\n",
        "print(f'y1: {y1}, y2: {y2}, y3: {y3}')"
      ],
      "execution_count": 33,
      "outputs": [
        {
          "output_type": "stream",
          "name": "stdout",
          "text": [
            "y1: 1, y2: -6.82, y3: -5.9984\n"
          ]
        }
      ]
    },
    {
      "cell_type": "code",
      "metadata": {
        "colab": {
          "base_uri": "https://localhost:8080/"
        },
        "id": "fDioa0GtduDP",
        "outputId": "c55db454-a40d-4a9f-83a0-b06c375451da"
      },
      "source": [
        "x3 = y3/2.08\n",
        "x2 = (y2 + 0.09 * x3)/ 2.27\n",
        "x1 = (y1- 5*x3 - 7*x2)/11\n",
        "print(f'x1: {x1}, x2: {x2}, x3: {x3}')"
      ],
      "execution_count": 34,
      "outputs": [
        {
          "output_type": "stream",
          "name": "stdout",
          "text": [
            "x1: 3.38640276023536, x2: -3.1187427990511694, x3: -2.8838461538461537\n"
          ]
        }
      ]
    }
  ]
}