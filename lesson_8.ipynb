{
  "nbformat": 4,
  "nbformat_minor": 0,
  "metadata": {
    "colab": {
      "name": "lesson_8.ipynb",
      "provenance": [],
      "authorship_tag": "ABX9TyN8BgixKqHNY5/linQ+YCp2",
      "include_colab_link": true
    },
    "kernelspec": {
      "name": "python3",
      "display_name": "Python 3"
    },
    "language_info": {
      "name": "python"
    }
  },
  "cells": [
    {
      "cell_type": "markdown",
      "metadata": {
        "id": "view-in-github",
        "colab_type": "text"
      },
      "source": [
        "<a href=\"https://colab.research.google.com/github/bkvkrll/linear-algebra/blob/main/lesson_8.ipynb\" target=\"_parent\"><img src=\"https://colab.research.google.com/assets/colab-badge.svg\" alt=\"Open In Colab\"/></a>"
      ]
    },
    {
      "cell_type": "markdown",
      "metadata": {
        "id": "KeJe3TR_xL9q"
      },
      "source": [
        "1. Найти с помощью NumPy SVD для матрицы\n",
        "\n",
        "$$\\begin{pmatrix}\n",
        "1 & 2 & 0\\\\ \n",
        "0 & 0 & 5\\\\ \n",
        "3 & -4 & 2\\\\ \n",
        "1 & 6 & 5\\\\ \n",
        "0 & 1 & 0\n",
        "\\end{pmatrix}.$$"
      ]
    },
    {
      "cell_type": "code",
      "metadata": {
        "id": "MwjAyTopxIsY"
      },
      "source": [
        "import numpy as np\n",
        "from numpy import linalg as LA"
      ],
      "execution_count": 1,
      "outputs": []
    },
    {
      "cell_type": "code",
      "metadata": {
        "colab": {
          "base_uri": "https://localhost:8080/"
        },
        "id": "GAqAU_0jxT-t",
        "outputId": "8c4773d1-4247-4aa8-b817-10227d80f983"
      },
      "source": [
        "A = np.array([[1, 2, 0],\n",
        "              [0, 0, 5],\n",
        "             [3, -4, 2],\n",
        "             [1, 6, 5],\n",
        "             [0, 1, 0]])\n",
        "print(f'A:\\n{A}')\n",
        "\n",
        "U, s, W = np.linalg.svd(A)\n",
        "V = W.T\n",
        "D = np.zeros_like(A, dtype=float)\n",
        "D[np.diag_indices(min(A.shape))] = s\n",
        "print(f'D:\\n{D}')\n",
        "print(f'U:\\n{U}')\n",
        "print(f'V:\\n{V}')\n",
        "\n",
        "print(np.dot(np.dot(U, D), V.T))"
      ],
      "execution_count": 4,
      "outputs": [
        {
          "output_type": "stream",
          "name": "stdout",
          "text": [
            "A:\n",
            "[[ 1  2  0]\n",
            " [ 0  0  5]\n",
            " [ 3 -4  2]\n",
            " [ 1  6  5]\n",
            " [ 0  1  0]]\n",
            "D:\n",
            "[[8.82486885 0.         0.        ]\n",
            " [0.         6.14060608 0.        ]\n",
            " [0.         0.         2.53271528]\n",
            " [0.         0.         0.        ]\n",
            " [0.         0.         0.        ]]\n",
            "U:\n",
            "[[ 0.17056501  0.15680918 -0.53077508 -0.79905375 -0.16158397]\n",
            " [ 0.39287016 -0.52933945  0.6134793  -0.43375771  0.03082495]\n",
            " [-0.14366152 -0.82449256 -0.52379105  0.14049848  0.07400343]\n",
            " [ 0.88843702  0.06074346 -0.24655277  0.37755832 -0.06042632]\n",
            " [ 0.08125046  0.10831843 -0.08231425 -0.10524851  0.98173958]]\n",
            "V:\n",
            "[[ 0.07116451 -0.36737824 -0.92734505]\n",
            " [ 0.71702467  0.66514082 -0.20847855]\n",
            " [ 0.69340553 -0.65009301  0.31075368]]\n",
            "[[ 1.00000000e+00  2.00000000e+00  5.13921141e-16]\n",
            " [ 1.25369098e-15 -2.94364984e-15  5.00000000e+00]\n",
            " [ 3.00000000e+00 -4.00000000e+00  2.00000000e+00]\n",
            " [ 1.00000000e+00  6.00000000e+00  5.00000000e+00]\n",
            " [-1.33610390e-16  1.00000000e+00 -9.73661964e-17]]\n"
          ]
        }
      ]
    },
    {
      "cell_type": "markdown",
      "metadata": {
        "id": "tNq4-EWJxweE"
      },
      "source": [
        "2. Для матрицы из предыдущего задания найти:\n",
        "\n",
        "    а) евклидову норму;\n",
        "    \n",
        "    б) норму Фробениуса."
      ]
    },
    {
      "cell_type": "code",
      "metadata": {
        "colab": {
          "base_uri": "https://localhost:8080/"
        },
        "id": "pZnhajRfx02W",
        "outputId": "a147e036-3652-4e9c-b6ef-010761eb559a"
      },
      "source": [
        "# Евклидова норма:\n",
        "D[0,0]"
      ],
      "execution_count": 5,
      "outputs": [
        {
          "output_type": "execute_result",
          "data": {
            "text/plain": [
              "8.824868854820442"
            ]
          },
          "metadata": {},
          "execution_count": 5
        }
      ]
    },
    {
      "cell_type": "code",
      "metadata": {
        "colab": {
          "base_uri": "https://localhost:8080/"
        },
        "id": "vpCe6cgEx6v9",
        "outputId": "06d3b26d-313e-45d9-a443-42c5c27c8737"
      },
      "source": [
        "# Норма Фробениуса:\n",
        "np.linalg.norm(A)\n",
        "np.linalg.norm(A, ord='fro')\n",
        "frobenius = 0\n",
        "for i in range(np.linalg.matrix_rank(A)):\n",
        "    frobenius += s[i]**2\n",
        "frobenius = np.sqrt(frobenius)\n",
        "frobenius"
      ],
      "execution_count": 6,
      "outputs": [
        {
          "output_type": "execute_result",
          "data": {
            "text/plain": [
              "11.045361017187261"
            ]
          },
          "metadata": {},
          "execution_count": 6
        }
      ]
    }
  ]
}